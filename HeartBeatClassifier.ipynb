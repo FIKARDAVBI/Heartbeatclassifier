{
  "nbformat": 4,
  "nbformat_minor": 0,
  "metadata": {
    "colab": {
      "provenance": [],
      "authorship_tag": "ABX9TyMQZ3BaeHFv5vCIGkjacnIw",
      "include_colab_link": true
    },
    "kernelspec": {
      "name": "python3",
      "display_name": "Python 3"
    },
    "language_info": {
      "name": "python"
    }
  },
  "cells": [
    {
      "cell_type": "markdown",
      "metadata": {
        "id": "view-in-github",
        "colab_type": "text"
      },
      "source": [
        "<a href=\"https://colab.research.google.com/github/FIKARDAVBI/Heartbeatclassifier/blob/main/HeartBeatClassifier.ipynb\" target=\"_parent\"><img src=\"https://colab.research.google.com/assets/colab-badge.svg\" alt=\"Open In Colab\"/></a>"
      ]
    },
    {
      "cell_type": "markdown",
      "source": [
        "Import Library"
      ],
      "metadata": {
        "id": "gjYj-ZYiH56k"
      }
    },
    {
      "cell_type": "code",
      "execution_count": 1,
      "metadata": {
        "id": "5SoF1eSwF0eN",
        "colab": {
          "base_uri": "https://localhost:8080/"
        },
        "outputId": "09d71a91-eb22-4b81-e92d-cb7f3f5f1f37"
      },
      "outputs": [
        {
          "output_type": "stream",
          "name": "stdout",
          "text": [
            "Drive already mounted at /content/drive; to attempt to forcibly remount, call drive.mount(\"/content/drive\", force_remount=True).\n"
          ]
        }
      ],
      "source": [
        "import csv\n",
        "from google.colab import drive\n",
        "import pandas as pd\n",
        "import numpy as np\n",
        "import random\n",
        "import matplotlib.pyplot as plt\n",
        "\n",
        "from sklearn.model_selection import train_test_split\n",
        "\n",
        "drive.mount('/content/drive')"
      ]
    },
    {
      "cell_type": "code",
      "source": [
        "dataall = [pd.read_csv('/content/drive/MyDrive/filetraining/HeartbeatAI/ptbdb_' + x + '.csv') for x in ['normal','abnormal']]"
      ],
      "metadata": {
        "id": "ajuJnyVXOCyy"
      },
      "execution_count": 2,
      "outputs": []
    },
    {
      "cell_type": "code",
      "source": [
        "for df in dataall:\n",
        "  df.columns = list(range(len(df.columns)))"
      ],
      "metadata": {
        "id": "WizY0G16PEEw"
      },
      "execution_count": 4,
      "outputs": []
    },
    {
      "cell_type": "code",
      "source": [
        "data = pd.concat(dataall,axis=0).sample(frac=1.0, random_state=1).reset_index(drop=True)\n",
        "\n",
        "data = data.rename({187: 'Label'},axis = 1)"
      ],
      "metadata": {
        "id": "pWLtwo6VBGlI"
      },
      "execution_count": 5,
      "outputs": []
    },
    {
      "cell_type": "code",
      "source": [
        "y = data['Label'].copy()\n",
        "x = data.drop('Label', axis=1).copy()\n",
        "\n",
        "X_train, X_test, y_train,y_test = train_test_split(x, y, train_size=0.7)"
      ],
      "metadata": {
        "id": "8KMCR-B5CE9e"
      },
      "execution_count": 14,
      "outputs": []
    },
    {
      "cell_type": "code",
      "source": [
        "def activationfunction(x):\n",
        "  return (1.0 / (1.0 + np.exp(-x)))\n",
        "\n",
        "def turunansigmoid(x):\n",
        "  return (x * (1.0-x))"
      ],
      "metadata": {
        "id": "sIjZplJSHYZ2"
      },
      "execution_count": 16,
      "outputs": []
    },
    {
      "cell_type": "code",
      "source": [
        "dat = np.array(X_train)\n",
        "xdfttrain = np.fft.fft(dat)\n",
        "ytrain = np.array(y_train)"
      ],
      "metadata": {
        "id": "0GDGn5Tm2wW1"
      },
      "execution_count": 15,
      "outputs": []
    },
    {
      "cell_type": "code",
      "source": [
        "def jst(epochs,miu,numbhl, datatrain,weightl1,weightl2 , target):\n",
        "  mseplot = []\n",
        "  hiddenlayer = np.empty(numbhl+1,dtype=complex)\n",
        "  err = 0.0\n",
        "  sse_ = 0.0\n",
        "  for epoch in range(epochs):\n",
        "    sse = 0.0\n",
        "    for i in range(len(datatrain)):\n",
        "      for k in range(numbhl):\n",
        "        sum = weightl1[0][k] * 1\n",
        "        for m in range(len(datatrain[0])):\n",
        "          sum += weightl1[m+1][k]*datatrain[i][m]\n",
        "        hiddenlayer[k+1] = activationfunction(sum)\n",
        "\n",
        "      hiddenlayer[0] = 1.0\n",
        "      output = 0.0\n",
        "      for k in range(numbhl+1):\n",
        "        output += weightl2[k] * hiddenlayer[k]\n",
        "\n",
        "      output = activationfunction(output)\n",
        "      err = target[i] - output\n",
        "      dO = turunansigmoid(output) * err\n",
        "\n",
        "      for k in range(numbhl+1):\n",
        "        dwh = miu * hiddenlayer[k] * dO\n",
        "        weightl2[k] = weightl2[k] + dwh\n",
        "\n",
        "      dH = np.empty(numbhl,dtype=complex)\n",
        "\n",
        "      for k in range(numbhl):\n",
        "        dH[k] = turunansigmoid(hiddenlayer[k+1])*weightl2[k+1]*dO\n",
        "\n",
        "      for k in range(numbhl):\n",
        "        dwi = miu * 1 * dH[k]\n",
        "        weightl1[0][k] = weightl1[0][k] + dwi\n",
        "        for m in range(len(datatrain[0])):\n",
        "          dwi = miu * datatrain[i][m] * dH[k]\n",
        "          weightl1[m+1][k] = weightl1[m+1][k] + dwi\n",
        "\n",
        "      sse += abs(pow(err,2))\n",
        "      mse_ = sse/(i+1)\n",
        "      if i%100 == 0:\n",
        "        print(\"epoch ke : \",epoch+1,\"iterasi ke : \",i,\"nilai sse: \",sse, \"nilai mse : \",mse_)\n",
        "\n",
        "    sse_ += abs(pow(err,2))\n",
        "    mse = sse_/(epoch+1)\n",
        "    print(\"epoch ke : \", epoch+1, \"nilai mse : \", mse)\n",
        "    mseplot.append(mse)\n",
        "\n",
        "  print(\"weight layer 1 \")\n",
        "  print(weightl1)\n",
        "  print(\"weight layer 2\")\n",
        "  print(weightl2)\n",
        "\n",
        "  plt.plot(range(epochs), mseplot)\n",
        "  plt.title('MSE vs. Epochs')\n",
        "  plt.xlabel('Epochs')\n",
        "  plt.ylabel('MSE')\n",
        "  plt.show()"
      ],
      "metadata": {
        "id": "kiBlRvBcDAuJ"
      },
      "execution_count": 17,
      "outputs": []
    },
    {
      "cell_type": "code",
      "source": [
        "mseplo = []\n",
        "epochs = 500\n",
        "numbofhl = 124\n",
        "wi = np.empty((len(xdfttrain)+1,numbofhl),dtype=complex)\n",
        "wh = np.empty(numbofhl+1,dtype=complex)\n",
        "\n",
        "for i in range(len(xdfttrain)+1):\n",
        "  for k in range(numbofhl):\n",
        "    wi[i][k] = random.random()\n",
        "\n",
        "for i in range(numbofhl+1):\n",
        "  wh[i] = random.random()\n",
        "\n",
        "jst(epochs,0.3,numbofhl,xdfttrain,wi,wh,ytrain)"
      ],
      "metadata": {
        "colab": {
          "base_uri": "https://localhost:8080/",
          "height": 1000
        },
        "id": "4YNkjRibEJ7m",
        "outputId": "deb40dc8-e849-4e9d-e419-b0f8f0829421"
      },
      "execution_count": 18,
      "outputs": [
        {
          "output_type": "stream",
          "name": "stdout",
          "text": [
            "epoch ke :  1 iterasi ke :  0 nilai sse:  2.124101639299314e-120 nilai mse :  2.124101639299314e-120\n",
            "epoch ke :  1 iterasi ke :  100 nilai sse:  34.0 nilai mse :  0.33663366336633666\n",
            "epoch ke :  1 iterasi ke :  200 nilai sse:  62.0 nilai mse :  0.30845771144278605\n",
            "epoch ke :  1 iterasi ke :  300 nilai sse:  97.0 nilai mse :  0.3222591362126246\n",
            "epoch ke :  1 iterasi ke :  400 nilai sse:  129.0 nilai mse :  0.32169576059850374\n",
            "epoch ke :  1 iterasi ke :  500 nilai sse:  159.0 nilai mse :  0.31736526946107785\n",
            "epoch ke :  1 iterasi ke :  600 nilai sse:  183.0 nilai mse :  0.30449251247920134\n",
            "epoch ke :  1 iterasi ke :  700 nilai sse:  214.0 nilai mse :  0.30527817403708984\n",
            "epoch ke :  1 iterasi ke :  800 nilai sse:  237.0 nilai mse :  0.2958801498127341\n",
            "epoch ke :  1 iterasi ke :  900 nilai sse:  264.0 nilai mse :  0.293007769145394\n",
            "epoch ke :  1 iterasi ke :  1000 nilai sse:  293.0 nilai mse :  0.29270729270729273\n",
            "epoch ke :  1 iterasi ke :  1100 nilai sse:  323.0 nilai mse :  0.29336966394187103\n",
            "epoch ke :  1 iterasi ke :  1200 nilai sse:  354.0 nilai mse :  0.29475437135720234\n",
            "epoch ke :  1 iterasi ke :  1300 nilai sse:  384.0 nilai mse :  0.29515757109915447\n",
            "epoch ke :  1 iterasi ke :  1400 nilai sse:  412.0 nilai mse :  0.2940756602426838\n",
            "epoch ke :  1 iterasi ke :  1500 nilai sse:  428.0 nilai mse :  0.285143237841439\n",
            "epoch ke :  1 iterasi ke :  1600 nilai sse:  462.0 nilai mse :  0.28856964397251716\n",
            "epoch ke :  1 iterasi ke :  1700 nilai sse:  487.0 nilai mse :  0.2863021751910641\n",
            "epoch ke :  1 iterasi ke :  1800 nilai sse:  513.0 nilai mse :  0.2848417545807885\n",
            "epoch ke :  1 iterasi ke :  1900 nilai sse:  538.0 nilai mse :  0.28300894266175697\n",
            "epoch ke :  1 iterasi ke :  2000 nilai sse:  574.0 nilai mse :  0.2868565717141429\n",
            "epoch ke :  1 iterasi ke :  2100 nilai sse:  604.0 nilai mse :  0.2874821513564969\n",
            "epoch ke :  1 iterasi ke :  2200 nilai sse:  632.0 nilai mse :  0.28714220808723306\n",
            "epoch ke :  1 iterasi ke :  2300 nilai sse:  654.0 nilai mse :  0.2842242503259452\n",
            "epoch ke :  1 iterasi ke :  2400 nilai sse:  678.0 nilai mse :  0.2823823406913786\n",
            "epoch ke :  1 iterasi ke :  2500 nilai sse:  712.0 nilai mse :  0.28468612554978007\n",
            "epoch ke :  1 iterasi ke :  2600 nilai sse:  736.0 nilai mse :  0.2829680891964629\n",
            "epoch ke :  1 iterasi ke :  2700 nilai sse:  764.0 nilai mse :  0.28285820066641987\n",
            "epoch ke :  1 iterasi ke :  2800 nilai sse:  788.0 nilai mse :  0.28132809710817563\n",
            "epoch ke :  1 iterasi ke :  2900 nilai sse:  813.0 nilai mse :  0.28024819027921405\n",
            "epoch ke :  1 iterasi ke :  3000 nilai sse:  845.0 nilai mse :  0.28157280906364546\n",
            "epoch ke :  1 iterasi ke :  3100 nilai sse:  871.0 nilai mse :  0.2808771364076105\n",
            "epoch ke :  1 iterasi ke :  3200 nilai sse:  906.0 nilai mse :  0.2830365510777882\n",
            "epoch ke :  1 iterasi ke :  3300 nilai sse:  935.0 nilai mse :  0.2832475007573463\n",
            "epoch ke :  1 iterasi ke :  3400 nilai sse:  963.0 nilai mse :  0.28315201411349605\n",
            "epoch ke :  1 iterasi ke :  3500 nilai sse:  995.0 nilai mse :  0.2842045129962868\n",
            "epoch ke :  1 iterasi ke :  3600 nilai sse:  1027.0 nilai mse :  0.2851985559566787\n",
            "epoch ke :  1 iterasi ke :  3700 nilai sse:  1055.0 nilai mse :  0.28505809240745744\n",
            "epoch ke :  1 iterasi ke :  3800 nilai sse:  1088.0 nilai mse :  0.28624046303604317\n",
            "epoch ke :  1 iterasi ke :  3900 nilai sse:  1119.0 nilai mse :  0.28684952576262496\n",
            "epoch ke :  1 iterasi ke :  4000 nilai sse:  1142.0 nilai mse :  0.2854286428392902\n",
            "epoch ke :  1 iterasi ke :  4100 nilai sse:  1172.0 nilai mse :  0.2857839551328944\n",
            "epoch ke :  1 iterasi ke :  4200 nilai sse:  1207.0 nilai mse :  0.28731254463223044\n",
            "epoch ke :  1 iterasi ke :  4300 nilai sse:  1231.0 nilai mse :  0.2862125087189026\n",
            "epoch ke :  1 iterasi ke :  4400 nilai sse:  1262.0 nilai mse :  0.2867530106793911\n",
            "epoch ke :  1 iterasi ke :  4500 nilai sse:  1293.0 nilai mse :  0.28726949566762944\n",
            "epoch ke :  1 iterasi ke :  4600 nilai sse:  1315.0 nilai mse :  0.2858074331667029\n",
            "epoch ke :  1 iterasi ke :  4700 nilai sse:  1341.0 nilai mse :  0.2852584556477345\n",
            "epoch ke :  1 iterasi ke :  4800 nilai sse:  1374.0 nilai mse :  0.28619037700479066\n",
            "epoch ke :  1 iterasi ke :  4900 nilai sse:  1401.0 nilai mse :  0.28586002856559883\n",
            "epoch ke :  1 iterasi ke :  5000 nilai sse:  1424.0 nilai mse :  0.28474305138972206\n",
            "epoch ke :  1 iterasi ke :  5100 nilai sse:  1452.0 nilai mse :  0.2846500686139973\n",
            "epoch ke :  1 iterasi ke :  5200 nilai sse:  1477.0 nilai mse :  0.2839838492597577\n",
            "epoch ke :  1 iterasi ke :  5300 nilai sse:  1506.0 nilai mse :  0.2840973401245048\n",
            "epoch ke :  1 iterasi ke :  5400 nilai sse:  1532.0 nilai mse :  0.2836511757082022\n",
            "epoch ke :  1 iterasi ke :  5500 nilai sse:  1562.0 nilai mse :  0.28394837302308673\n",
            "epoch ke :  1 iterasi ke :  5600 nilai sse:  1586.0 nilai mse :  0.28316372076414925\n",
            "epoch ke :  1 iterasi ke :  5700 nilai sse:  1615.0 nilai mse :  0.28328363445009647\n",
            "epoch ke :  1 iterasi ke :  5800 nilai sse:  1643.0 nilai mse :  0.2832270298224444\n",
            "epoch ke :  1 iterasi ke :  5900 nilai sse:  1671.0 nilai mse :  0.2831723436705643\n",
            "epoch ke :  1 iterasi ke :  6000 nilai sse:  1692.0 nilai mse :  0.281953007832028\n",
            "epoch ke :  1 iterasi ke :  6100 nilai sse:  1717.0 nilai mse :  0.2814292738895263\n",
            "epoch ke :  1 iterasi ke :  6200 nilai sse:  1751.0 nilai mse :  0.28237381067569745\n",
            "epoch ke :  1 iterasi ke :  6300 nilai sse:  1782.0 nilai mse :  0.2828122520234883\n",
            "epoch ke :  1 iterasi ke :  6400 nilai sse:  1817.0 nilai mse :  0.28386189657865957\n",
            "epoch ke :  1 iterasi ke :  6500 nilai sse:  1845.0 nilai mse :  0.28380249192431933\n",
            "epoch ke :  1 iterasi ke :  6600 nilai sse:  1870.0 nilai mse :  0.283290410543857\n",
            "epoch ke :  1 iterasi ke :  6700 nilai sse:  1903.0 nilai mse :  0.2839874645575287\n",
            "epoch ke :  1 iterasi ke :  6800 nilai sse:  1933.0 nilai mse :  0.28422290839582415\n",
            "epoch ke :  1 iterasi ke :  6900 nilai sse:  1966.0 nilai mse :  0.2848862483698015\n",
            "epoch ke :  1 iterasi ke :  7000 nilai sse:  1985.0 nilai mse :  0.28353092415369235\n",
            "epoch ke :  1 iterasi ke :  7100 nilai sse:  2015.0 nilai mse :  0.28376285030277426\n",
            "epoch ke :  1 iterasi ke :  7200 nilai sse:  2038.0 nilai mse :  0.283016247743369\n",
            "epoch ke :  1 iterasi ke :  7300 nilai sse:  2061.0 nilai mse :  0.2822900972469525\n",
            "epoch ke :  1 iterasi ke :  7400 nilai sse:  2090.0 nilai mse :  0.28239427104445347\n",
            "epoch ke :  1 iterasi ke :  7500 nilai sse:  2125.0 nilai mse :  0.28329556059192107\n",
            "epoch ke :  1 iterasi ke :  7600 nilai sse:  2153.0 nilai mse :  0.2832522036574135\n",
            "epoch ke :  1 iterasi ke :  7700 nilai sse:  2176.0 nilai mse :  0.282560706401766\n",
            "epoch ke :  1 iterasi ke :  7800 nilai sse:  2198.0 nilai mse :  0.28175874887834895\n",
            "epoch ke :  1 iterasi ke :  7900 nilai sse:  2223.0 nilai mse :  0.28135679027971144\n",
            "epoch ke :  1 iterasi ke :  8000 nilai sse:  2246.0 nilai mse :  0.2807149106361705\n",
            "epoch ke :  1 iterasi ke :  8100 nilai sse:  2274.0 nilai mse :  0.280706085668436\n",
            "epoch ke :  1 iterasi ke :  8200 nilai sse:  2299.0 nilai mse :  0.2803316668698939\n",
            "epoch ke :  1 iterasi ke :  8300 nilai sse:  2322.0 nilai mse :  0.27972533429707264\n",
            "epoch ke :  1 iterasi ke :  8400 nilai sse:  2352.0 nilai mse :  0.2799666706344483\n",
            "epoch ke :  1 iterasi ke :  8500 nilai sse:  2381.0 nilai mse :  0.2800846959181273\n",
            "epoch ke :  1 iterasi ke :  8600 nilai sse:  2411.0 nilai mse :  0.28031624229740726\n",
            "epoch ke :  1 iterasi ke :  8700 nilai sse:  2435.0 nilai mse :  0.2798528904723595\n",
            "epoch ke :  1 iterasi ke :  8800 nilai sse:  2457.0 nilai mse :  0.2791728212703102\n",
            "epoch ke :  1 iterasi ke :  8900 nilai sse:  2473.0 nilai mse :  0.27783395124143356\n",
            "epoch ke :  1 iterasi ke :  9000 nilai sse:  2499.0 nilai mse :  0.2776358182424175\n",
            "epoch ke :  1 iterasi ke :  9100 nilai sse:  2528.0 nilai mse :  0.27777167344247883\n",
            "epoch ke :  1 iterasi ke :  9200 nilai sse:  2556.0 nilai mse :  0.27779589175089664\n",
            "epoch ke :  1 iterasi ke :  9300 nilai sse:  2583.0 nilai mse :  0.2777120739705408\n",
            "epoch ke :  1 iterasi ke :  9400 nilai sse:  2616.0 nilai mse :  0.27826826933304966\n",
            "epoch ke :  1 iterasi ke :  9500 nilai sse:  2643.0 nilai mse :  0.27818124407957057\n",
            "epoch ke :  1 iterasi ke :  9600 nilai sse:  2667.0 nilai mse :  0.27778356421206124\n",
            "epoch ke :  1 iterasi ke :  9700 nilai sse:  2697.0 nilai mse :  0.27801257602309043\n",
            "epoch ke :  1 iterasi ke :  9800 nilai sse:  2730.0 nilai mse :  0.2785430058157331\n",
            "epoch ke :  1 iterasi ke :  9900 nilai sse:  2752.0 nilai mse :  0.27795172204827795\n",
            "epoch ke :  1 iterasi ke :  10000 nilai sse:  2773.0 nilai mse :  0.2772722727727227\n",
            "epoch ke :  1 iterasi ke :  10100 nilai sse:  2790.0 nilai mse :  0.2762102762102762\n",
            "epoch ke :  1 nilai mse :  4.123280298340759e-118\n",
            "epoch ke :  2 iterasi ke :  0 nilai sse:  2.1241375911917897e-120 nilai mse :  2.1241375911917897e-120\n",
            "epoch ke :  2 iterasi ke :  100 nilai sse:  34.0 nilai mse :  0.33663366336633666\n",
            "epoch ke :  2 iterasi ke :  200 nilai sse:  62.0 nilai mse :  0.30845771144278605\n",
            "epoch ke :  2 iterasi ke :  300 nilai sse:  97.0 nilai mse :  0.3222591362126246\n",
            "epoch ke :  2 iterasi ke :  400 nilai sse:  129.0 nilai mse :  0.32169576059850374\n",
            "epoch ke :  2 iterasi ke :  500 nilai sse:  159.0 nilai mse :  0.31736526946107785\n",
            "epoch ke :  2 iterasi ke :  600 nilai sse:  183.0 nilai mse :  0.30449251247920134\n",
            "epoch ke :  2 iterasi ke :  700 nilai sse:  214.0 nilai mse :  0.30527817403708984\n",
            "epoch ke :  2 iterasi ke :  800 nilai sse:  237.0 nilai mse :  0.2958801498127341\n",
            "epoch ke :  2 iterasi ke :  900 nilai sse:  264.0 nilai mse :  0.293007769145394\n",
            "epoch ke :  2 iterasi ke :  1000 nilai sse:  293.0 nilai mse :  0.29270729270729273\n",
            "epoch ke :  2 iterasi ke :  1100 nilai sse:  323.0 nilai mse :  0.29336966394187103\n",
            "epoch ke :  2 iterasi ke :  1200 nilai sse:  354.0 nilai mse :  0.29475437135720234\n",
            "epoch ke :  2 iterasi ke :  1300 nilai sse:  384.0 nilai mse :  0.29515757109915447\n",
            "epoch ke :  2 iterasi ke :  1400 nilai sse:  412.0 nilai mse :  0.2940756602426838\n",
            "epoch ke :  2 iterasi ke :  1500 nilai sse:  428.0 nilai mse :  0.285143237841439\n",
            "epoch ke :  2 iterasi ke :  1600 nilai sse:  462.0 nilai mse :  0.28856964397251716\n",
            "epoch ke :  2 iterasi ke :  1700 nilai sse:  487.0 nilai mse :  0.2863021751910641\n",
            "epoch ke :  2 iterasi ke :  1800 nilai sse:  513.0 nilai mse :  0.2848417545807885\n",
            "epoch ke :  2 iterasi ke :  1900 nilai sse:  538.0 nilai mse :  0.28300894266175697\n",
            "epoch ke :  2 iterasi ke :  2000 nilai sse:  574.0 nilai mse :  0.2868565717141429\n",
            "epoch ke :  2 iterasi ke :  2100 nilai sse:  604.0 nilai mse :  0.2874821513564969\n",
            "epoch ke :  2 iterasi ke :  2200 nilai sse:  632.0 nilai mse :  0.28714220808723306\n",
            "epoch ke :  2 iterasi ke :  2300 nilai sse:  654.0 nilai mse :  0.2842242503259452\n",
            "epoch ke :  2 iterasi ke :  2400 nilai sse:  678.0 nilai mse :  0.2823823406913786\n",
            "epoch ke :  2 iterasi ke :  2500 nilai sse:  712.0 nilai mse :  0.28468612554978007\n",
            "epoch ke :  2 iterasi ke :  2600 nilai sse:  736.0 nilai mse :  0.2829680891964629\n",
            "epoch ke :  2 iterasi ke :  2700 nilai sse:  764.0 nilai mse :  0.28285820066641987\n",
            "epoch ke :  2 iterasi ke :  2800 nilai sse:  788.0 nilai mse :  0.28132809710817563\n",
            "epoch ke :  2 iterasi ke :  2900 nilai sse:  813.0 nilai mse :  0.28024819027921405\n",
            "epoch ke :  2 iterasi ke :  3000 nilai sse:  845.0 nilai mse :  0.28157280906364546\n",
            "epoch ke :  2 iterasi ke :  3100 nilai sse:  871.0 nilai mse :  0.2808771364076105\n",
            "epoch ke :  2 iterasi ke :  3200 nilai sse:  906.0 nilai mse :  0.2830365510777882\n",
            "epoch ke :  2 iterasi ke :  3300 nilai sse:  935.0 nilai mse :  0.2832475007573463\n",
            "epoch ke :  2 iterasi ke :  3400 nilai sse:  963.0 nilai mse :  0.28315201411349605\n",
            "epoch ke :  2 iterasi ke :  3500 nilai sse:  995.0 nilai mse :  0.2842045129962868\n",
            "epoch ke :  2 iterasi ke :  3600 nilai sse:  1027.0 nilai mse :  0.2851985559566787\n",
            "epoch ke :  2 iterasi ke :  3700 nilai sse:  1055.0 nilai mse :  0.28505809240745744\n",
            "epoch ke :  2 iterasi ke :  3800 nilai sse:  1088.0 nilai mse :  0.28624046303604317\n",
            "epoch ke :  2 iterasi ke :  3900 nilai sse:  1119.0 nilai mse :  0.28684952576262496\n",
            "epoch ke :  2 iterasi ke :  4000 nilai sse:  1142.0 nilai mse :  0.2854286428392902\n",
            "epoch ke :  2 iterasi ke :  4100 nilai sse:  1172.0 nilai mse :  0.2857839551328944\n",
            "epoch ke :  2 iterasi ke :  4200 nilai sse:  1207.0 nilai mse :  0.28731254463223044\n",
            "epoch ke :  2 iterasi ke :  4300 nilai sse:  1231.0 nilai mse :  0.2862125087189026\n",
            "epoch ke :  2 iterasi ke :  4400 nilai sse:  1262.0 nilai mse :  0.2867530106793911\n",
            "epoch ke :  2 iterasi ke :  4500 nilai sse:  1293.0 nilai mse :  0.28726949566762944\n",
            "epoch ke :  2 iterasi ke :  4600 nilai sse:  1315.0 nilai mse :  0.2858074331667029\n",
            "epoch ke :  2 iterasi ke :  4700 nilai sse:  1341.0 nilai mse :  0.2852584556477345\n",
            "epoch ke :  2 iterasi ke :  4800 nilai sse:  1374.0 nilai mse :  0.28619037700479066\n",
            "epoch ke :  2 iterasi ke :  4900 nilai sse:  1401.0 nilai mse :  0.28586002856559883\n",
            "epoch ke :  2 iterasi ke :  5000 nilai sse:  1424.0 nilai mse :  0.28474305138972206\n",
            "epoch ke :  2 iterasi ke :  5100 nilai sse:  1452.0 nilai mse :  0.2846500686139973\n",
            "epoch ke :  2 iterasi ke :  5200 nilai sse:  1477.0 nilai mse :  0.2839838492597577\n",
            "epoch ke :  2 iterasi ke :  5300 nilai sse:  1506.0 nilai mse :  0.2840973401245048\n",
            "epoch ke :  2 iterasi ke :  5400 nilai sse:  1532.0 nilai mse :  0.2836511757082022\n",
            "epoch ke :  2 iterasi ke :  5500 nilai sse:  1562.0 nilai mse :  0.28394837302308673\n",
            "epoch ke :  2 iterasi ke :  5600 nilai sse:  1586.0 nilai mse :  0.28316372076414925\n",
            "epoch ke :  2 iterasi ke :  5700 nilai sse:  1615.0 nilai mse :  0.28328363445009647\n",
            "epoch ke :  2 iterasi ke :  5800 nilai sse:  1643.0 nilai mse :  0.2832270298224444\n",
            "epoch ke :  2 iterasi ke :  5900 nilai sse:  1671.0 nilai mse :  0.2831723436705643\n",
            "epoch ke :  2 iterasi ke :  6000 nilai sse:  1692.0 nilai mse :  0.281953007832028\n",
            "epoch ke :  2 iterasi ke :  6100 nilai sse:  1717.0 nilai mse :  0.2814292738895263\n",
            "epoch ke :  2 iterasi ke :  6200 nilai sse:  1751.0 nilai mse :  0.28237381067569745\n",
            "epoch ke :  2 iterasi ke :  6300 nilai sse:  1782.0 nilai mse :  0.2828122520234883\n",
            "epoch ke :  2 iterasi ke :  6400 nilai sse:  1817.0 nilai mse :  0.28386189657865957\n",
            "epoch ke :  2 iterasi ke :  6500 nilai sse:  1845.0 nilai mse :  0.28380249192431933\n",
            "epoch ke :  2 iterasi ke :  6600 nilai sse:  1870.0 nilai mse :  0.283290410543857\n",
            "epoch ke :  2 iterasi ke :  6700 nilai sse:  1903.0 nilai mse :  0.2839874645575287\n",
            "epoch ke :  2 iterasi ke :  6800 nilai sse:  1933.0 nilai mse :  0.28422290839582415\n",
            "epoch ke :  2 iterasi ke :  6900 nilai sse:  1966.0 nilai mse :  0.2848862483698015\n",
            "epoch ke :  2 iterasi ke :  7000 nilai sse:  1985.0 nilai mse :  0.28353092415369235\n",
            "epoch ke :  2 iterasi ke :  7100 nilai sse:  2015.0 nilai mse :  0.28376285030277426\n",
            "epoch ke :  2 iterasi ke :  7200 nilai sse:  2038.0 nilai mse :  0.283016247743369\n",
            "epoch ke :  2 iterasi ke :  7300 nilai sse:  2061.0 nilai mse :  0.2822900972469525\n",
            "epoch ke :  2 iterasi ke :  7400 nilai sse:  2090.0 nilai mse :  0.28239427104445347\n",
            "epoch ke :  2 iterasi ke :  7500 nilai sse:  2125.0 nilai mse :  0.28329556059192107\n",
            "epoch ke :  2 iterasi ke :  7600 nilai sse:  2153.0 nilai mse :  0.2832522036574135\n",
            "epoch ke :  2 iterasi ke :  7700 nilai sse:  2176.0 nilai mse :  0.282560706401766\n",
            "epoch ke :  2 iterasi ke :  7800 nilai sse:  2198.0 nilai mse :  0.28175874887834895\n",
            "epoch ke :  2 iterasi ke :  7900 nilai sse:  2223.0 nilai mse :  0.28135679027971144\n",
            "epoch ke :  2 iterasi ke :  8000 nilai sse:  2246.0 nilai mse :  0.2807149106361705\n",
            "epoch ke :  2 iterasi ke :  8100 nilai sse:  2274.0 nilai mse :  0.280706085668436\n",
            "epoch ke :  2 iterasi ke :  8200 nilai sse:  2299.0 nilai mse :  0.2803316668698939\n",
            "epoch ke :  2 iterasi ke :  8300 nilai sse:  2322.0 nilai mse :  0.27972533429707264\n",
            "epoch ke :  2 iterasi ke :  8400 nilai sse:  2352.0 nilai mse :  0.2799666706344483\n",
            "epoch ke :  2 iterasi ke :  8500 nilai sse:  2381.0 nilai mse :  0.2800846959181273\n",
            "epoch ke :  2 iterasi ke :  8600 nilai sse:  2411.0 nilai mse :  0.28031624229740726\n",
            "epoch ke :  2 iterasi ke :  8700 nilai sse:  2435.0 nilai mse :  0.2798528904723595\n",
            "epoch ke :  2 iterasi ke :  8800 nilai sse:  2457.0 nilai mse :  0.2791728212703102\n",
            "epoch ke :  2 iterasi ke :  8900 nilai sse:  2473.0 nilai mse :  0.27783395124143356\n",
            "epoch ke :  2 iterasi ke :  9000 nilai sse:  2499.0 nilai mse :  0.2776358182424175\n",
            "epoch ke :  2 iterasi ke :  9100 nilai sse:  2528.0 nilai mse :  0.27777167344247883\n",
            "epoch ke :  2 iterasi ke :  9200 nilai sse:  2556.0 nilai mse :  0.27779589175089664\n",
            "epoch ke :  2 iterasi ke :  9300 nilai sse:  2583.0 nilai mse :  0.2777120739705408\n",
            "epoch ke :  2 iterasi ke :  9400 nilai sse:  2616.0 nilai mse :  0.27826826933304966\n",
            "epoch ke :  2 iterasi ke :  9500 nilai sse:  2643.0 nilai mse :  0.27818124407957057\n",
            "epoch ke :  2 iterasi ke :  9600 nilai sse:  2667.0 nilai mse :  0.27778356421206124\n",
            "epoch ke :  2 iterasi ke :  9700 nilai sse:  2697.0 nilai mse :  0.27801257602309043\n",
            "epoch ke :  2 iterasi ke :  9800 nilai sse:  2730.0 nilai mse :  0.2785430058157331\n",
            "epoch ke :  2 iterasi ke :  9900 nilai sse:  2752.0 nilai mse :  0.27795172204827795\n",
            "epoch ke :  2 iterasi ke :  10000 nilai sse:  2773.0 nilai mse :  0.2772722727727227\n",
            "epoch ke :  2 iterasi ke :  10100 nilai sse:  2790.0 nilai mse :  0.2762102762102762\n",
            "epoch ke :  2 nilai mse :  4.123282802856912e-118\n",
            "epoch ke :  3 iterasi ke :  0 nilai sse:  2.124173543388526e-120 nilai mse :  2.124173543388526e-120\n",
            "epoch ke :  3 iterasi ke :  100 nilai sse:  34.0 nilai mse :  0.33663366336633666\n",
            "epoch ke :  3 iterasi ke :  200 nilai sse:  62.0 nilai mse :  0.30845771144278605\n",
            "epoch ke :  3 iterasi ke :  300 nilai sse:  97.0 nilai mse :  0.3222591362126246\n",
            "epoch ke :  3 iterasi ke :  400 nilai sse:  129.0 nilai mse :  0.32169576059850374\n",
            "epoch ke :  3 iterasi ke :  500 nilai sse:  159.0 nilai mse :  0.31736526946107785\n",
            "epoch ke :  3 iterasi ke :  600 nilai sse:  183.0 nilai mse :  0.30449251247920134\n",
            "epoch ke :  3 iterasi ke :  700 nilai sse:  214.0 nilai mse :  0.30527817403708984\n",
            "epoch ke :  3 iterasi ke :  800 nilai sse:  237.0 nilai mse :  0.2958801498127341\n",
            "epoch ke :  3 iterasi ke :  900 nilai sse:  264.0 nilai mse :  0.293007769145394\n",
            "epoch ke :  3 iterasi ke :  1000 nilai sse:  293.0 nilai mse :  0.29270729270729273\n",
            "epoch ke :  3 iterasi ke :  1100 nilai sse:  323.0 nilai mse :  0.29336966394187103\n"
          ]
        },
        {
          "output_type": "error",
          "ename": "KeyboardInterrupt",
          "evalue": "ignored",
          "traceback": [
            "\u001b[0;31m---------------------------------------------------------------------------\u001b[0m",
            "\u001b[0;31mKeyboardInterrupt\u001b[0m                         Traceback (most recent call last)",
            "\u001b[0;32m<ipython-input-18-19046687c381>\u001b[0m in \u001b[0;36m<cell line: 14>\u001b[0;34m()\u001b[0m\n\u001b[1;32m     12\u001b[0m   \u001b[0mwh\u001b[0m\u001b[0;34m[\u001b[0m\u001b[0mi\u001b[0m\u001b[0;34m]\u001b[0m \u001b[0;34m=\u001b[0m \u001b[0mrandom\u001b[0m\u001b[0;34m.\u001b[0m\u001b[0mrandom\u001b[0m\u001b[0;34m(\u001b[0m\u001b[0;34m)\u001b[0m\u001b[0;34m\u001b[0m\u001b[0;34m\u001b[0m\u001b[0m\n\u001b[1;32m     13\u001b[0m \u001b[0;34m\u001b[0m\u001b[0m\n\u001b[0;32m---> 14\u001b[0;31m \u001b[0mjst\u001b[0m\u001b[0;34m(\u001b[0m\u001b[0mepochs\u001b[0m\u001b[0;34m,\u001b[0m\u001b[0;36m0.3\u001b[0m\u001b[0;34m,\u001b[0m\u001b[0mnumbofhl\u001b[0m\u001b[0;34m,\u001b[0m\u001b[0mxdfttrain\u001b[0m\u001b[0;34m,\u001b[0m\u001b[0mwi\u001b[0m\u001b[0;34m,\u001b[0m\u001b[0mwh\u001b[0m\u001b[0;34m,\u001b[0m\u001b[0mytrain\u001b[0m\u001b[0;34m)\u001b[0m\u001b[0;34m\u001b[0m\u001b[0;34m\u001b[0m\u001b[0m\n\u001b[0m",
            "\u001b[0;32m<ipython-input-17-b9b2861ca3b0>\u001b[0m in \u001b[0;36mjst\u001b[0;34m(epochs, miu, numbhl, datatrain, weightl1, weightl2, target)\u001b[0m\n\u001b[1;32m     36\u001b[0m         \u001b[0;32mfor\u001b[0m \u001b[0mm\u001b[0m \u001b[0;32min\u001b[0m \u001b[0mrange\u001b[0m\u001b[0;34m(\u001b[0m\u001b[0mlen\u001b[0m\u001b[0;34m(\u001b[0m\u001b[0mdatatrain\u001b[0m\u001b[0;34m[\u001b[0m\u001b[0;36m0\u001b[0m\u001b[0;34m]\u001b[0m\u001b[0;34m)\u001b[0m\u001b[0;34m)\u001b[0m\u001b[0;34m:\u001b[0m\u001b[0;34m\u001b[0m\u001b[0;34m\u001b[0m\u001b[0m\n\u001b[1;32m     37\u001b[0m           \u001b[0mdwi\u001b[0m \u001b[0;34m=\u001b[0m \u001b[0mmiu\u001b[0m \u001b[0;34m*\u001b[0m \u001b[0mdatatrain\u001b[0m\u001b[0;34m[\u001b[0m\u001b[0mi\u001b[0m\u001b[0;34m]\u001b[0m\u001b[0;34m[\u001b[0m\u001b[0mm\u001b[0m\u001b[0;34m]\u001b[0m \u001b[0;34m*\u001b[0m \u001b[0mdH\u001b[0m\u001b[0;34m[\u001b[0m\u001b[0mk\u001b[0m\u001b[0;34m]\u001b[0m\u001b[0;34m\u001b[0m\u001b[0;34m\u001b[0m\u001b[0m\n\u001b[0;32m---> 38\u001b[0;31m           \u001b[0mweightl1\u001b[0m\u001b[0;34m[\u001b[0m\u001b[0mm\u001b[0m\u001b[0;34m+\u001b[0m\u001b[0;36m1\u001b[0m\u001b[0;34m]\u001b[0m\u001b[0;34m[\u001b[0m\u001b[0mk\u001b[0m\u001b[0;34m]\u001b[0m \u001b[0;34m=\u001b[0m \u001b[0mweightl1\u001b[0m\u001b[0;34m[\u001b[0m\u001b[0mm\u001b[0m\u001b[0;34m+\u001b[0m\u001b[0;36m1\u001b[0m\u001b[0;34m]\u001b[0m\u001b[0;34m[\u001b[0m\u001b[0mk\u001b[0m\u001b[0;34m]\u001b[0m \u001b[0;34m+\u001b[0m \u001b[0mdwi\u001b[0m\u001b[0;34m\u001b[0m\u001b[0;34m\u001b[0m\u001b[0m\n\u001b[0m\u001b[1;32m     39\u001b[0m \u001b[0;34m\u001b[0m\u001b[0m\n\u001b[1;32m     40\u001b[0m       \u001b[0msse\u001b[0m \u001b[0;34m+=\u001b[0m \u001b[0mabs\u001b[0m\u001b[0;34m(\u001b[0m\u001b[0mpow\u001b[0m\u001b[0;34m(\u001b[0m\u001b[0merr\u001b[0m\u001b[0;34m,\u001b[0m\u001b[0;36m2\u001b[0m\u001b[0;34m)\u001b[0m\u001b[0;34m)\u001b[0m\u001b[0;34m\u001b[0m\u001b[0;34m\u001b[0m\u001b[0m\n",
            "\u001b[0;31mKeyboardInterrupt\u001b[0m: "
          ]
        }
      ]
    }
  ]
}